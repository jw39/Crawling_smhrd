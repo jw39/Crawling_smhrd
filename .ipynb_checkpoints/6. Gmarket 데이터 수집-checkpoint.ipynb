{
 "cells": [
  {
   "cell_type": "markdown",
   "id": "2d81ee54-dc54-46a3-a77f-39b2911be864",
   "metadata": {},
   "source": [
    "# 이번 예제에서 배울 학습 내용\n",
    "1) 동적페이지 수집 방법 -> 사람답게 코드를 짠다 -> time 기능을 잘 사용하는 방법\n",
    "2) 반복문을 작성할 때 오류 없이 쉽게 작성하는 방법\n",
    "3) 예외처리 학습 -> 데이터 수집"
   ]
  },
  {
   "cell_type": "code",
   "execution_count": 44,
   "id": "a6e9d67a-a642-416c-85d1-a6b01fe0bc30",
   "metadata": {},
   "outputs": [],
   "source": [
    "from selenium import webdriver as wb\n",
    "from selenium.webdriver.common.by import By\n",
    "import time"
   ]
  },
  {
   "cell_type": "code",
   "execution_count": 45,
   "id": "3683a06a-7251-46d9-969d-29104a70b8a8",
   "metadata": {},
   "outputs": [],
   "source": [
    "# # 코드 통합\n",
    "# # 코드의 중간중간 time.sleep()이 필요하다 -> 로딩 받는 시간이 필요해서\n",
    "# # 클라이언트가 서버에게 요청을 할 때마다 시간을 부여한다.\n",
    "# driver = wb.Chrome()\n",
    "# driver.get(\"https://www.hsd.co.kr/menu/menu_list\")\n",
    "# time.sleep(1)\n",
    "# driver.maximize_window()\n",
    "# try :\n",
    "#     for i in range(10) :\n",
    "#         btn = driver.find_element(By.CSS_SELECTOR, \"#btn_more > span > a\")\n",
    "#         btn.click()\n",
    "#         #잠깐 잠들어!\n",
    "#         time.sleep(1)\n",
    "# except :\n",
    "#     print(\"더보기 완료\")\n",
    "# title = driver.find_elements(By.CSS_SELECTOR, \"div > div.item-text > h4\")\n",
    "# price = driver.find_elements(By.CSS_SELECTOR, \"div > div.item-text > div\")\n",
    "# titleList = []\n",
    "# priceList = []\n",
    "# for i in range(len(title)):\n",
    "#     titleList.append(title[i].text)\n",
    "#     priceList.append(price[i].text)\n",
    "# dic = {\"상품이름\":titleList, \"가격정보\":priceList}\n",
    "# data = pd.DataFrame(dic)\n",
    "# data.to_csv(\"한솥도시락.csv\", encoding = \"euc-kr\")"
   ]
  },
  {
   "cell_type": "code",
   "execution_count": 51,
   "id": "f26f9308-a883-4277-b7d3-9669edc51c9c",
   "metadata": {},
   "outputs": [],
   "source": [
    "# 1. 브라우저는 실행하고 -> Gmarket 베스트 사이트 이동 -> 화면 최대화\n",
    "driver = wb.Chrome()\n",
    "driver.get(\"https://www.gmarket.co.kr/n/best\")\n",
    "driver.maximize_window()"
   ]
  },
  {
   "cell_type": "code",
   "execution_count": 47,
   "id": "4953c970-b49b-4b13-8efd-6f0ce557b2cf",
   "metadata": {},
   "outputs": [],
   "source": [
    "# 2. img 태그들을 수집 후 -> 첫번째 이미지 태그를 클릭 -> 첫번째 상품의 상세페이지\n",
    "# 선택자를 수정할 때 -> 맨 앞 아이디 값은 영역을 의미한다. -> nth-child() 제거가 다수\n",
    "img = driver.find_elements(By.CSS_SELECTOR, \"#gBestWrap > div.best-list > ul > li > div.thumb > a > img\")\n",
    "img[0].click()"
   ]
  },
  {
   "cell_type": "code",
   "execution_count": 48,
   "id": "b0cc7664-542c-4018-8284-80886264d09b",
   "metadata": {
    "scrolled": true
   },
   "outputs": [],
   "source": [
    "# 3. 상세페이지에서 상품 이름, 상품가격(쿠폰 적용가)\n",
    "titleList = []\n",
    "priceList = []\n",
    "# 요소 수집 코드\n",
    "title = driver.find_element(By.CSS_SELECTOR,\"#itemcase_basic > div.box__item-title > h1\")\n",
    "price = driver.find_element(By.CSS_SELECTOR,\"#itemcase_basic > div.box__item-title > div.price > span.price_innerwrap.price_innerwrap-coupon > strong\")\n",
    "# 텍스트 추출 코드\n",
    "titleList.append(title.text)\n",
    "priceList.append(price.text)"
   ]
  },
  {
   "cell_type": "code",
   "execution_count": 49,
   "id": "8600372f-9093-4e50-ad26-cff2d3029ca9",
   "metadata": {},
   "outputs": [],
   "source": [
    "# 4. 페이지 뒤로가기\n",
    "driver.back()"
   ]
  },
  {
   "cell_type": "code",
   "execution_count": 52,
   "id": "7d87d3e6-d8d7-4d01-9bb1-7cc78195f8b2",
   "metadata": {},
   "outputs": [],
   "source": [
    "# 5. 반복문을 통해서 코드를 10번 반복\n",
    "titleList = []\n",
    "priceList = []\n",
    "for i in range(10) :\n",
    "    # 페이지가 변하기 때문에, 반드시 태그를 다시 찾아야 한다!\n",
    "    # back을 했기 때문에 동기 통신이라, 페이지가 바뀌었다는 건 전체 데이터가 초기화되었기 때문에 다시 이미지 태그를 긁어와야함\n",
    "    img = driver.find_elements(By.CSS_SELECTOR, \"#gBestWrap > div.best-list > ul > li > div.thumb > a > img\")\n",
    "    img[i].click()\n",
    "    time.sleep(1)\n",
    "    title = driver.find_element(By.CSS_SELECTOR,\"#itemcase_basic > div.box__item-title > h1\")\n",
    "    try:\n",
    "        # 쿠폰가격 수집\n",
    "        price = driver.find_element(By.CSS_SELECTOR,\"#itemcase_basic > div.box__item-title > div.price > span.price_innerwrap.price_innerwrap-coupon > strong\")\n",
    "    except:\n",
    "        # 일반가격 수집\n",
    "        price = driver.find_element(By.CSS_SELECTOR, \"#itemcase_basic > div.box__item-title > div.price > span.price_innerwrap > strong\")\n",
    "    titleList.append(title.text)\n",
    "    priceList.append(price.text)\n",
    "    \n",
    "    driver.back()\n",
    "    time.sleep(1)"
   ]
  },
  {
   "cell_type": "code",
   "execution_count": null,
   "id": "ec407daf-5cf1-49d4-a780-1976d964fe52",
   "metadata": {},
   "outputs": [],
   "source": []
  },
  {
   "cell_type": "code",
   "execution_count": null,
   "id": "4c2ecdee-76b8-44ac-bae7-8afd05743ae2",
   "metadata": {},
   "outputs": [],
   "source": []
  },
  {
   "cell_type": "code",
   "execution_count": null,
   "id": "6c51f79c-fa49-46dd-bc96-b6d749563a00",
   "metadata": {},
   "outputs": [],
   "source": []
  },
  {
   "cell_type": "code",
   "execution_count": null,
   "id": "6300548e-f1af-4eed-85d1-039a61757386",
   "metadata": {},
   "outputs": [],
   "source": []
  },
  {
   "cell_type": "code",
   "execution_count": null,
   "id": "1c527ea6-9ae4-4271-a8d3-a77cc5429456",
   "metadata": {},
   "outputs": [],
   "source": []
  },
  {
   "cell_type": "code",
   "execution_count": null,
   "id": "acee3125-ef49-4cf0-b887-e2cead404ad8",
   "metadata": {},
   "outputs": [],
   "source": []
  },
  {
   "cell_type": "code",
   "execution_count": null,
   "id": "22d912b7-fb3e-4074-b672-b0be60ff9003",
   "metadata": {},
   "outputs": [],
   "source": []
  },
  {
   "cell_type": "code",
   "execution_count": null,
   "id": "c78184fe-05fd-413c-8302-5595cf534db5",
   "metadata": {},
   "outputs": [],
   "source": []
  },
  {
   "cell_type": "code",
   "execution_count": null,
   "id": "385958d6-2151-46bf-ab72-73c379fbe6c7",
   "metadata": {},
   "outputs": [],
   "source": []
  },
  {
   "cell_type": "code",
   "execution_count": null,
   "id": "712a0282-2dd6-4eeb-90a2-47c625828214",
   "metadata": {},
   "outputs": [],
   "source": []
  },
  {
   "cell_type": "code",
   "execution_count": null,
   "id": "943eeb1e-cf98-4b71-a924-f7e4533bcbb6",
   "metadata": {},
   "outputs": [],
   "source": []
  }
 ],
 "metadata": {
  "kernelspec": {
   "display_name": "Python 3 (ipykernel)",
   "language": "python",
   "name": "python3"
  },
  "language_info": {
   "codemirror_mode": {
    "name": "ipython",
    "version": 3
   },
   "file_extension": ".py",
   "mimetype": "text/x-python",
   "name": "python",
   "nbconvert_exporter": "python",
   "pygments_lexer": "ipython3",
   "version": "3.11.7"
  }
 },
 "nbformat": 4,
 "nbformat_minor": 5
}
