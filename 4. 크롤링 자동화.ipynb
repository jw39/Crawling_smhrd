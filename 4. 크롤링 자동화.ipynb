{
 "cells": [
  {
   "cell_type": "markdown",
   "id": "f67b56d2-ed65-4ed4-b7d9-204987f0b130",
   "metadata": {},
   "source": [
    "# 데이터수집 자동화\n",
    "- 브라우저 동작, 클릭, 엔터, 검색, 휠 내리는 행위, ... -> 사람이 하는 건 다 가능\n",
    "- 사람처럼 동작하게 코드를 작성해야 한다.\n",
    "- selenium 라이브러리"
   ]
  },
  {
   "cell_type": "code",
   "execution_count": 1,
   "id": "92fee34f-bc24-4ff8-8eab-b76a4fb4c556",
   "metadata": {},
   "outputs": [],
   "source": [
    "# 라이브러리 설치 -> 한 번만 설치하면 된다!\n",
    "# 맨 앞에 ! 붙이면 강제 설치\n",
    "# !pip install selenium"
   ]
  },
  {
   "cell_type": "code",
   "execution_count": 2,
   "id": "87ad6fcb-367e-4062-992e-d3ea1d977458",
   "metadata": {},
   "outputs": [],
   "source": [
    "# 1. 브라우저 역할을 해주는 라이브러리\n",
    "from selenium import webdriver as wb\n",
    "\n",
    "# 2. (신버전) 선택자에 구분자 역할을 해주는 라이브러리\n",
    "from selenium.webdriver.common.by import By\n",
    "\n",
    "# 3. 컴퓨터용 키보드\n",
    "from selenium.webdriver.common.keys import Keys"
   ]
  },
  {
   "cell_type": "code",
   "execution_count": 3,
   "id": "6df1d8f8-2f52-464b-833b-839b6fa0f55c",
   "metadata": {},
   "outputs": [],
   "source": [
    "# 1. 크롬 브라우저 실행\n",
    "# 신버전이라 크롬 드라이버 설치 할 필요가 없음\n",
    "# driver라는 변수에 크롬창을 넣었음\n",
    "driver = wb.Chrome()"
   ]
  },
  {
   "cell_type": "code",
   "execution_count": 4,
   "id": "5191a091-1c29-4120-9f26-efbca99ebf91",
   "metadata": {},
   "outputs": [],
   "source": [
    "# 2. 네이버페이지로 이동\n",
    "driver.get('http://www.naver.com')"
   ]
  },
  {
   "cell_type": "code",
   "execution_count": 5,
   "id": "46f854f4-65d8-418b-abdf-29010a6c9cbb",
   "metadata": {},
   "outputs": [],
   "source": [
    "# 3. 검색창에 기아타이거즈 검색\n",
    "# 3-1. 검색창의 위치를 알려줘야 한다. (태그)\n",
    "# soup를 사용하지 않는 이유 -> 이미 브라우저를 가져온 것이니 리퀘스트에 받은 내용을 html로 바꿀 이유가 없어서\n",
    "\n",
    "# 일반적인 사고 : 브라우저에서 id가 query인 요소를 찾아줘\n",
    "search = driver.find_element(By.ID, \"query\")\n",
    "\n",
    "# 구버전 -> by 라이브러리 존재 X,,, driver.find_element_by_id(\"query\")"
   ]
  },
  {
   "cell_type": "code",
   "execution_count": 6,
   "id": "e1870e58-0a70-482f-b1f0-1904f75d5afa",
   "metadata": {},
   "outputs": [],
   "source": [
    "# 4. 검색창에 '기아타이거즈' 값을 보내줘야함.\n",
    "search.send_keys(\"기아타이거즈\")"
   ]
  },
  {
   "cell_type": "code",
   "execution_count": 7,
   "id": "860dd33d-06d2-4c8d-abab-75b6c078ec71",
   "metadata": {},
   "outputs": [],
   "source": [
    "# 5. 키보드의 엔터 누르기\n",
    "search.send_keys(Keys.ENTER)"
   ]
  },
  {
   "cell_type": "code",
   "execution_count": 8,
   "id": "690e6c3f-b8a1-4a9a-9251-ed2828b9ade8",
   "metadata": {},
   "outputs": [],
   "source": [
    "# 6. 페이지 뒤로 가기\n",
    "# 뒤로 가기 화살표는 HTML 태그가 아닌 브라우저의 기능! find_element 안됨!!\n",
    "# 앞으로 가는 건 forward\n",
    "# back을 하면 search나 뭐든,, 데이터들이 초기화됨,, back하면 검색창을 찾아오는 코드를 다시 써줘야함\n",
    "driver.back()"
   ]
  },
  {
   "cell_type": "code",
   "execution_count": 9,
   "id": "1c991fd6-881f-4477-9654-c9ae64c35075",
   "metadata": {},
   "outputs": [],
   "source": [
    "# 7. 검색창에 두산베어스 검색\n",
    "# 페이지가 이동을 하면 (전체페이지가 깜빡) -> 반드시 요소를 다시 찾아야 한다.\n",
    "search = driver.find_element(By.ID, \"query\")\n",
    "search.send_keys(\"두산베어스\")"
   ]
  },
  {
   "cell_type": "code",
   "execution_count": 10,
   "id": "bed73119-70b3-41a8-a193-c6b7fed4464f",
   "metadata": {},
   "outputs": [],
   "source": [
    "# 8. 돋보기 버튼을 클릭해서 검색\n",
    "btn = driver.find_element(By.CSS_SELECTOR, \"#sform > fieldset > button\")\n",
    "btn.click()"
   ]
  },
  {
   "cell_type": "code",
   "execution_count": 11,
   "id": "d2202554-6073-4b55-a84b-24680cea0e7c",
   "metadata": {},
   "outputs": [],
   "source": [
    "# 9. 페이지의 최하단으로 이동\n",
    "# 키보드의 엔드 버튼\n",
    "# 먼저 html의 최하단으로 가기 위해 전체 페이지, 즉 body를 선택해야함. body 요소를 찾은 걸 body에 넣고\n",
    "# body 페이지에 END 키보드를 눌러 전해줘~~\n",
    "body = driver.find_element(By.CSS_SELECTOR, \"body\")\n",
    "body.send_keys(Keys.END)"
   ]
  },
  {
   "cell_type": "code",
   "execution_count": 12,
   "id": "ebefab49-0b79-45c8-a79b-bc4051e5c8a0",
   "metadata": {},
   "outputs": [],
   "source": [
    "# 9-1. 비동기 통신 방식이기 때문에 body 태그를 다시 찾지 않고 end 키를 눌러도 에러가 뜨지 않는다.. (#7 참고)\n",
    "body.send_keys(Keys.END)"
   ]
  },
  {
   "cell_type": "code",
   "execution_count": 13,
   "id": "ca2d58f9-f217-44d3-9d57-b5b59bcdecda",
   "metadata": {},
   "outputs": [],
   "source": [
    "# 10. 뉴스 타이틀만 수집\n",
    "# 우린 elements 만 가져온 거임 ㅜㅜ 요소 수집했으니까 text 수집해야함\n",
    "title = driver.find_elements(By.CSS_SELECTOR, \"div > div > div.news_contents > a.news_tit\")"
   ]
  },
  {
   "cell_type": "code",
   "execution_count": 14,
   "id": "60197591-14ab-43f7-a707-5c4a85f00631",
   "metadata": {},
   "outputs": [],
   "source": [
    "# 10-1. 타이틀 요소 수집한 거 텍스트만 수집\n",
    "titleList = []\n",
    "for i in title :\n",
    "    titleList.append(i.text)"
   ]
  },
  {
   "cell_type": "code",
   "execution_count": 15,
   "id": "855b8a79-d793-4314-80c3-15909cec1f42",
   "metadata": {},
   "outputs": [
    {
     "data": {
      "text/plain": [
       "['두산베어스 주장 양석환 손에 들린 이것…회장님의 태블릿PC 선물 왜?',\n",
       " '[포토] 8연승 기쁨 나누는 두산 베어스',\n",
       " '승승승승승승승승, 5월 베어스 누가 말리나…‘곽빈·최준호 승리 합창’ ...',\n",
       " '승리거둔 두산 베어스']"
      ]
     },
     "execution_count": 15,
     "metadata": {},
     "output_type": "execute_result"
    }
   ],
   "source": [
    "titleList"
   ]
  },
  {
   "cell_type": "code",
   "execution_count": 16,
   "id": "1e1456da-b934-4a12-84d1-3832c389eec0",
   "metadata": {},
   "outputs": [],
   "source": [
    "# 11. 창 종료\n",
    "# close(), quit()\n",
    "driver.close()"
   ]
  },
  {
   "cell_type": "code",
   "execution_count": null,
   "id": "04fc2378-6022-41f1-baf2-9079ec6fc4a2",
   "metadata": {},
   "outputs": [],
   "source": []
  }
 ],
 "metadata": {
  "kernelspec": {
   "display_name": "Python 3 (ipykernel)",
   "language": "python",
   "name": "python3"
  },
  "language_info": {
   "codemirror_mode": {
    "name": "ipython",
    "version": 3
   },
   "file_extension": ".py",
   "mimetype": "text/x-python",
   "name": "python",
   "nbconvert_exporter": "python",
   "pygments_lexer": "ipython3",
   "version": "3.11.7"
  }
 },
 "nbformat": 4,
 "nbformat_minor": 5
}
