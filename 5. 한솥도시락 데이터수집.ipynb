{
 "cells": [
  {
   "cell_type": "code",
   "execution_count": 87,
   "id": "9f4228f8-3844-43d5-aa16-fb79f74ec3c8",
   "metadata": {},
   "outputs": [],
   "source": [
    "from selenium import webdriver as wb\n",
    "from selenium.webdriver.common.by import By\n",
    "import pandas as pd"
   ]
  },
  {
   "cell_type": "code",
   "execution_count": 72,
   "id": "07f63a2b-151f-4cfd-b928-9a2eb2c9ca15",
   "metadata": {},
   "outputs": [],
   "source": [
    "# 1. 브라우저를 실행하고 한솥 사이트로 이동\n",
    "driver = wb.Chrome()\n",
    "driver.get(\"https://www.hsd.co.kr/menu/menu_list\")"
   ]
  },
  {
   "cell_type": "code",
   "execution_count": 73,
   "id": "9dfb5439-08d3-47f8-9ac1-d618a4920f0b",
   "metadata": {},
   "outputs": [],
   "source": [
    "# 2. 브라우저의 크기를 최대크기로 변경\n",
    "driver.maximize_window()"
   ]
  },
  {
   "cell_type": "code",
   "execution_count": 85,
   "id": "49331a42-4330-4c6c-8bda-67fb0cde8b76",
   "metadata": {},
   "outputs": [],
   "source": [
    "# 3. 상품이름, 상품 가격 수집\n",
    "# 개발자 도구에서 요소를 검사할 때 반드시 화면과 선택한 태그가 일치하는지 확인해볼 것\n",
    "# 일치하지 않다면 주변 다른 태그들을 분석해서 원하는 요소를 찾기\n",
    "title = driver.find_elements(By.CSS_SELECTOR, \"div > div.item-text > h4\")"
   ]
  },
  {
   "cell_type": "code",
   "execution_count": 75,
   "id": "d804242a-2bef-4c38-a324-034ab2bf0be9",
   "metadata": {},
   "outputs": [],
   "source": [
    "price = driver.find_elements(By.CSS_SELECTOR, \"div > div.item-text > div\")"
   ]
  },
  {
   "cell_type": "code",
   "execution_count": 76,
   "id": "36ff26fb-4278-4f0e-bc68-fd65dec8fefd",
   "metadata": {},
   "outputs": [],
   "source": [
    "# 3. 더보기 버튼을 틀릭해서 모든 데이터를 로딩받기!\n",
    "# 버튼이 없는 경우 오류 발생 -> 코드가 통합할 때 밑에 코드가 동작을 안함\n",
    "# 이떄 필요한게 예외 처리 (오류가 나기 전까지 코드를 실행하다가, 오류가 나면 멈추지 않고 다른 코드가 동작.\n",
    "# btn = driver.find_element(By.CSS_SELECTOR, \"#btn_more > span > a\")\n",
    "# btn.click()"
   ]
  },
  {
   "cell_type": "code",
   "execution_count": 86,
   "id": "0cb57238-c3d8-4d1c-99d8-0a833a139945",
   "metadata": {},
   "outputs": [
    {
     "data": {
      "text/plain": [
       "102"
      ]
     },
     "execution_count": 86,
     "metadata": {},
     "output_type": "execute_result"
    }
   ],
   "source": [
    "len(title)"
   ]
  },
  {
   "cell_type": "code",
   "execution_count": 78,
   "id": "3999b2c0-bc1d-476b-9b16-dd958f44e574",
   "metadata": {},
   "outputs": [],
   "source": [
    "# 컴퓨터에게 시간을 부여할 때 사용하는 라이브러리\n",
    "# -> 너무 빠르게 요청해버리면 서버가 올바르지 않는 응답하기 때문에\n",
    "import time"
   ]
  },
  {
   "cell_type": "code",
   "execution_count": 82,
   "id": "da10168b-38bd-4fa0-80bf-94db15e8207c",
   "metadata": {},
   "outputs": [
    {
     "name": "stdout",
     "output_type": "stream",
     "text": [
      "더보기 완료\n"
     ]
    }
   ],
   "source": [
    "try :\n",
    "    for i in range(10) :\n",
    "        btn = driver.find_element(By.CSS_SELECTOR, \"#btn_more > span > a\")\n",
    "        btn.click()\n",
    "        #잠깐 잠들어!\n",
    "        time.sleep(1)\n",
    "except :\n",
    "    print(\"더보기 완료\")\n"
   ]
  },
  {
   "cell_type": "markdown",
   "id": "7ffeee7f-3b81-422e-95a8-a7717ac2a09d",
   "metadata": {},
   "source": [
    "# 예외처리 할 때 주의점\n",
    "1) 동작에 관련된 예외처리 (더보기 버튼) 에러나면 그냥 출력문을 통해서 넘어가도 상관없음\n",
    "2) 데이터를 수집할 때는 반드시 에러가 나는 부분에 null, 없음, 0 등과 같은 다른 데이터를 넣어줘야 한다.\n",
    "   - 데이터의 개수가 다르면 표, DB, 파일로 제작할 때 오류가 발생 -> 데이터의 개수가 다르기 때문에    "
   ]
  },
  {
   "cell_type": "code",
   "execution_count": 88,
   "id": "0af9e9f6-2904-4025-b05d-bb041874c044",
   "metadata": {},
   "outputs": [
    {
     "name": "stdout",
     "output_type": "stream",
     "text": [
      "더보기 완료\n"
     ]
    }
   ],
   "source": [
    "# 코드 통합\n",
    "# 코드의 중간중간 time.sleep()이 필요하다 -> 로딩 받는 시간이 필요해서\n",
    "# 클라이언트가 서버에게 요청을 할 때마다 시간을 부여한다.\n",
    "driver = wb.Chrome()\n",
    "driver.get(\"https://www.hsd.co.kr/menu/menu_list\")\n",
    "time.sleep(1)\n",
    "driver.maximize_window()\n",
    "try :\n",
    "    for i in range(10) :\n",
    "        btn = driver.find_element(By.CSS_SELECTOR, \"#btn_more > span > a\")\n",
    "        btn.click()\n",
    "        #잠깐 잠들어!\n",
    "        time.sleep(1)\n",
    "except :\n",
    "    print(\"더보기 완료\")\n",
    "title = driver.find_elements(By.CSS_SELECTOR, \"div > div.item-text > h4\")\n",
    "price = driver.find_elements(By.CSS_SELECTOR, \"div > div.item-text > div\")\n",
    "titleList = []\n",
    "priceList = []\n",
    "for i in range(len(title)):\n",
    "    titleList.append(title[i].text)\n",
    "    priceList.append(price[i].text)\n",
    "dic = {\"상품이름\":titleList, \"가격정보\":priceList}\n",
    "data = pd.DataFrame(dic)\n",
    "data.to_csv(\"한솥도시락.csv\", encoding = \"euc-kr\")"
   ]
  },
  {
   "cell_type": "markdown",
   "id": "ce98a952-bca8-4d08-8458-e5f07279e2a6",
   "metadata": {},
   "source": [
    "# 이번 예제에서 학습 내용\n",
    "1) 반드시 데이터를 수집하기 전에 데이터 로딩이 먼저 일어나야 한다. (더보기, 스크롤 내리기)\n",
    "2) 코드를 통합할 때는 반드시 중간중간 time을 부여해야 한다. -> 클라이언트와 서버가 데이터를 주고 받을 때마다 넣어줘야 한다.\n",
    "3) 페이지마다 구조가 다 다르기 때문에, 반드시 예외처리를 해야한다.\n",
    "   - 동작을 할 때는 (클릭, 엔터 등) 예외처리 문법에 그냥 print, pass 사용\n",
    "   - 데이터를 수집할 때는 데이터가 없는 경우, 반드시 null, 0 등과 같은 다른 데이터를 넣어줘야 한다, -> 개수 맞추기 위해서이다. => 올바르게 표 , DB, 파일로 저장할 때 오류 발생을 막기 위해서!\n",
    "4) 크롤링의 프로세스\n",
    "   1) 창을 실행한다, -> 특정 사이트로 이동\n",
    "   2) 데이터 로딩을 진행한다. -> 더보기나 스크롤 등...\n",
    "   3) 요소 수집 -> 텍스트로 변환\n",
    "   4) 데이터 활용 -> 표, 파일 제작"
   ]
  },
  {
   "cell_type": "code",
   "execution_count": null,
   "id": "e602f4ff-097d-4d81-8387-9f1ecc224000",
   "metadata": {},
   "outputs": [],
   "source": []
  },
  {
   "cell_type": "code",
   "execution_count": null,
   "id": "8c0a9798-1435-4f75-85b2-2ac16a218a90",
   "metadata": {},
   "outputs": [],
   "source": []
  },
  {
   "cell_type": "code",
   "execution_count": null,
   "id": "3bc8ef6e-a870-4372-b1aa-83ec55a6639f",
   "metadata": {},
   "outputs": [],
   "source": []
  },
  {
   "cell_type": "code",
   "execution_count": null,
   "id": "73259742-2f86-4001-95aa-242b249baf3b",
   "metadata": {},
   "outputs": [],
   "source": []
  },
  {
   "cell_type": "code",
   "execution_count": null,
   "id": "0ef91234-6d7f-45fc-9e76-86988185f80a",
   "metadata": {},
   "outputs": [],
   "source": []
  },
  {
   "cell_type": "code",
   "execution_count": null,
   "id": "0bb03247-d5d2-48ae-bf72-254b521bc108",
   "metadata": {},
   "outputs": [],
   "source": []
  },
  {
   "cell_type": "code",
   "execution_count": null,
   "id": "9a110881-1bba-4539-af99-d136c309fbe1",
   "metadata": {},
   "outputs": [],
   "source": []
  }
 ],
 "metadata": {
  "kernelspec": {
   "display_name": "Python 3 (ipykernel)",
   "language": "python",
   "name": "python3"
  },
  "language_info": {
   "codemirror_mode": {
    "name": "ipython",
    "version": 3
   },
   "file_extension": ".py",
   "mimetype": "text/x-python",
   "name": "python",
   "nbconvert_exporter": "python",
   "pygments_lexer": "ipython3",
   "version": "3.11.7"
  }
 },
 "nbformat": 4,
 "nbformat_minor": 5
}
