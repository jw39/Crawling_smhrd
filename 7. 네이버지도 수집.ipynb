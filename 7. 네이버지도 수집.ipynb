{
 "cells": [
  {
   "cell_type": "markdown",
   "id": "a734594e-29c5-420f-a457-8167c072266a",
   "metadata": {},
   "source": [
    "# 이번 예제에서 학습할 내용\n",
    "1) 여러 페이지를 이동 -> 접근이 불가능한 사이트 존재\n",
    "2) 독특한 선택자 등장"
   ]
  },
  {
   "cell_type": "code",
   "execution_count": 6,
   "id": "477e182b-4d44-4690-a3db-ae653199dcf4",
   "metadata": {},
   "outputs": [],
   "source": [
    "from selenium import webdriver as wb\n",
    "from selenium.webdriver.common.by import By\n",
    "from selenium.webdriver.common.keys import Keys\n",
    "import time"
   ]
  },
  {
   "cell_type": "code",
   "execution_count": 56,
   "id": "3809f417-f793-4365-9d00-f43d4dbeda5f",
   "metadata": {},
   "outputs": [],
   "source": [
    "# 1. 사이트 이동\n",
    "driver = wb.Chrome()\n",
    "driver.get(\"https://map.naver.com/p\")\n",
    "driver.maximize_window()"
   ]
  },
  {
   "cell_type": "code",
   "execution_count": 57,
   "id": "19906de9-a1f5-4e0e-ab23-22cf95ae84ee",
   "metadata": {},
   "outputs": [],
   "source": [
    "# 2. 검색창에 동명동 맛집 -> 엔터\n",
    "search = driver.find_element(By.CSS_SELECTOR, \"input.input_search\")\n",
    "search.send_keys(\"동명동맛집\")\n",
    "search.send_keys(Keys.ENTER)"
   ]
  },
  {
   "cell_type": "code",
   "execution_count": 58,
   "id": "62bcff72-9066-4477-9512-5e8d481f9001",
   "metadata": {},
   "outputs": [],
   "source": [
    "# selenium에서 iframe으로 접근하는 방법 -> src 사용하는게 아님\n",
    "# req 할 때는 src 경로를 활용\n",
    "# 브라우저야 변경할 건데, 아이프레임으로 변경해 .. 라는 대화를 할 것임\n",
    "# 한 번 iframe으로 이동하면 다신 지도 데이터로 이동 불가능\n",
    "driver.switch_to.frame(\"searchIframe\")"
   ]
  },
  {
   "cell_type": "code",
   "execution_count": 59,
   "id": "6f11cb1f-c02f-472a-99df-877ecec23c90",
   "metadata": {
    "scrolled": true
   },
   "outputs": [],
   "source": [
    "# 3. 가게 이름을 수집 -> 첫번째 가게 클릭\n",
    "# 검색 결과가 iframe에 담겨있다.\n",
    "title = driver.find_elements(By.CSS_SELECTOR,\"#_pcmap_list_scroll_container > ul > li > div.CHC5F > a > div > div\")\n",
    "title[0].click()"
   ]
  },
  {
   "cell_type": "code",
   "execution_count": 62,
   "id": "b1ecceec-a599-42b1-9acc-0be16e1c6bd7",
   "metadata": {},
   "outputs": [],
   "source": [
    "# 새로운 iframe으로 이동\n",
    "# iframe에서 다른 iframe으로 직접 이동 불가능 -> 서로 모르는 관계이기 때문에(아예 독립적으로 존재함)\n",
    "# 원본에 다시 갔다가 -> 새로운 iframe으로 이동\n",
    "driver.switch_to.default_content() #원본 데이터로 가거라\n",
    "driver.switch_to.frame(\"entryIframe\")"
   ]
  },
  {
   "cell_type": "code",
   "execution_count": 63,
   "id": "3045a068-9710-4a87-aeee-e18686278ecb",
   "metadata": {},
   "outputs": [
    {
     "data": {
      "text/plain": [
       "<selenium.webdriver.remote.webelement.WebElement (session=\"b353b8c11d26cc1acec448214bde6095\", element=\"f.EF2DE5180B9F2BB1DDD0DA380EC3BAA2.d.14A5326EA2CFD88C4152358CDE1780D6.e.1989\")>"
      ]
     },
     "execution_count": 63,
     "metadata": {},
     "output_type": "execute_result"
    }
   ],
   "source": [
    "# 4. 상세 페이지의 가게 이름 수집\n",
    "driver.find_element(By.CSS_SELECTOR, \"#_title > div > span.GHAhO\")"
   ]
  },
  {
   "cell_type": "markdown",
   "id": "b6a7d47d-0965-47d4-953d-da5f9f48f2b2",
   "metadata": {},
   "source": [
    "# selenium에서 iframe 처리하기\n",
    "- 원본 데이터에서 iframe 데이터로 접근이 불가능\n",
    "- driver.switch_to.frame(\"프레임id\") 이동 후, 수집 가능\n",
    "- iframe에서 다른 iframe으로 갈려면 반드시 원본을 들렸다가 가야한다.\n",
    "- 원본을 가는 방식은 driver.switch_to.default_content() -> 새로운 프레임으로 이동\n",
    "- 데이터가 수집이 안되는 경우는 크게 3가지 + 1가지\n",
    "  1) 네트워크가 좋지 않을 때 -> time을 추가해서 로딩시간을 늘리자\n",
    "  2) 선택자가 틀렸을 때 -> nth-child, id를 잘 지웠나 체크\n",
    "  3) iframe을 검사해라 -> 상당히 자주 등장\n",
    "  4) 클릭, 동작이 작동하지 않은 경우 -> 선택자를 전체 범위로 넓혀라\n",
    "     ex) 오류 코드에 locate, (x, y)좌표, uninteractable 등의 오류 코드가 나올 때"
   ]
  },
  {
   "cell_type": "markdown",
   "id": "256a4655-55d4-4122-a8c2-2c4fb82a8f43",
   "metadata": {},
   "source": [
    "# 셀레니움을 쓸 때 접근이 불가능 (쿠팡, 로그인 관련 사이트)\n",
    "- undetected-chromedriver : 일반 사용자가 사용하는 크롬창 실행\n",
    "- 보안이 강화된 사이트에 접금할 때 시도해 볼 것!"
   ]
  },
  {
   "cell_type": "code",
   "execution_count": 64,
   "id": "fe2ac593-0508-4453-bcb1-5e10e88dab63",
   "metadata": {
    "scrolled": true
   },
   "outputs": [
    {
     "name": "stdout",
     "output_type": "stream",
     "text": [
      "Collecting undetected-chromedriver\n",
      "  Downloading undetected-chromedriver-3.5.5.tar.gz (65 kB)\n",
      "     ---------------------------------------- 0.0/65.4 kB ? eta -:--:--\n",
      "     ----------------- -------------------- 30.7/65.4 kB 435.7 kB/s eta 0:00:01\n",
      "     -------------------------------------- 65.4/65.4 kB 707.3 kB/s eta 0:00:00\n",
      "  Preparing metadata (setup.py): started\n",
      "  Preparing metadata (setup.py): finished with status 'done'\n",
      "Requirement already satisfied: selenium>=4.9.0 in c:\\users\\smhrd\\anaconda3\\lib\\site-packages (from undetected-chromedriver) (4.20.0)\n",
      "Requirement already satisfied: requests in c:\\users\\smhrd\\anaconda3\\lib\\site-packages (from undetected-chromedriver) (2.31.0)\n",
      "Collecting websockets (from undetected-chromedriver)\n",
      "  Downloading websockets-12.0-cp311-cp311-win_amd64.whl.metadata (6.8 kB)\n",
      "Requirement already satisfied: urllib3<3,>=1.26 in c:\\users\\smhrd\\anaconda3\\lib\\site-packages (from urllib3[socks]<3,>=1.26->selenium>=4.9.0->undetected-chromedriver) (2.0.7)\n",
      "Requirement already satisfied: trio~=0.17 in c:\\users\\smhrd\\anaconda3\\lib\\site-packages (from selenium>=4.9.0->undetected-chromedriver) (0.25.0)\n",
      "Requirement already satisfied: trio-websocket~=0.9 in c:\\users\\smhrd\\anaconda3\\lib\\site-packages (from selenium>=4.9.0->undetected-chromedriver) (0.11.1)\n",
      "Requirement already satisfied: certifi>=2021.10.8 in c:\\users\\smhrd\\anaconda3\\lib\\site-packages (from selenium>=4.9.0->undetected-chromedriver) (2024.2.2)\n",
      "Requirement already satisfied: typing_extensions>=4.9.0 in c:\\users\\smhrd\\anaconda3\\lib\\site-packages (from selenium>=4.9.0->undetected-chromedriver) (4.9.0)\n",
      "Requirement already satisfied: charset-normalizer<4,>=2 in c:\\users\\smhrd\\anaconda3\\lib\\site-packages (from requests->undetected-chromedriver) (2.0.4)\n",
      "Requirement already satisfied: idna<4,>=2.5 in c:\\users\\smhrd\\anaconda3\\lib\\site-packages (from requests->undetected-chromedriver) (3.4)\n",
      "Requirement already satisfied: attrs>=23.2.0 in c:\\users\\smhrd\\anaconda3\\lib\\site-packages (from trio~=0.17->selenium>=4.9.0->undetected-chromedriver) (23.2.0)\n",
      "Requirement already satisfied: sortedcontainers in c:\\users\\smhrd\\anaconda3\\lib\\site-packages (from trio~=0.17->selenium>=4.9.0->undetected-chromedriver) (2.4.0)\n",
      "Requirement already satisfied: outcome in c:\\users\\smhrd\\anaconda3\\lib\\site-packages (from trio~=0.17->selenium>=4.9.0->undetected-chromedriver) (1.3.0.post0)\n",
      "Requirement already satisfied: sniffio>=1.3.0 in c:\\users\\smhrd\\anaconda3\\lib\\site-packages (from trio~=0.17->selenium>=4.9.0->undetected-chromedriver) (1.3.0)\n",
      "Requirement already satisfied: cffi>=1.14 in c:\\users\\smhrd\\anaconda3\\lib\\site-packages (from trio~=0.17->selenium>=4.9.0->undetected-chromedriver) (1.16.0)\n",
      "Requirement already satisfied: wsproto>=0.14 in c:\\users\\smhrd\\anaconda3\\lib\\site-packages (from trio-websocket~=0.9->selenium>=4.9.0->undetected-chromedriver) (1.2.0)\n",
      "Requirement already satisfied: pysocks!=1.5.7,<2.0,>=1.5.6 in c:\\users\\smhrd\\anaconda3\\lib\\site-packages (from urllib3[socks]<3,>=1.26->selenium>=4.9.0->undetected-chromedriver) (1.7.1)\n",
      "Requirement already satisfied: pycparser in c:\\users\\smhrd\\anaconda3\\lib\\site-packages (from cffi>=1.14->trio~=0.17->selenium>=4.9.0->undetected-chromedriver) (2.21)\n",
      "Requirement already satisfied: h11<1,>=0.9.0 in c:\\users\\smhrd\\anaconda3\\lib\\site-packages (from wsproto>=0.14->trio-websocket~=0.9->selenium>=4.9.0->undetected-chromedriver) (0.14.0)\n",
      "Downloading websockets-12.0-cp311-cp311-win_amd64.whl (124 kB)\n",
      "   ---------------------------------------- 0.0/125.0 kB ? eta -:--:--\n",
      "   ---------------------------------------- 125.0/125.0 kB 3.7 MB/s eta 0:00:00\n",
      "Building wheels for collected packages: undetected-chromedriver\n",
      "  Building wheel for undetected-chromedriver (setup.py): started\n",
      "  Building wheel for undetected-chromedriver (setup.py): finished with status 'done'\n",
      "  Created wheel for undetected-chromedriver: filename=undetected_chromedriver-3.5.5-py3-none-any.whl size=47130 sha256=99c01e41e6836a959855acbb357a84b2225ce35f0d143d1015adbf285b9f4d28\n",
      "  Stored in directory: c:\\users\\smhrd\\appdata\\local\\pip\\cache\\wheels\\5c\\b9\\03\\4b6e38f019d6170e8c25df2e1e362d7bdf9ff4012df2dc85c0\n",
      "Successfully built undetected-chromedriver\n",
      "Installing collected packages: websockets, undetected-chromedriver\n",
      "Successfully installed undetected-chromedriver-3.5.5 websockets-12.0\n",
      "Note: you may need to restart the kernel to use updated packages.\n"
     ]
    }
   ],
   "source": [
    "pip install undetected-chromedriver"
   ]
  },
  {
   "cell_type": "code",
   "execution_count": 65,
   "id": "4eb17c7b-8b2e-4c64-8199-c818e4121a1d",
   "metadata": {},
   "outputs": [],
   "source": [
    "import undetected_chromedriver as uc"
   ]
  },
  {
   "cell_type": "code",
   "execution_count": 66,
   "id": "b7c032ce-e2ef-447e-941e-fc1472a3a525",
   "metadata": {},
   "outputs": [
    {
     "data": {
      "text/plain": [
       "<undetected_chromedriver.Chrome (session=\"e4d1749c64c92fa64d6e4b941d54b325\")>"
      ]
     },
     "execution_count": 66,
     "metadata": {},
     "output_type": "execute_result"
    }
   ],
   "source": [
    "uc.Chrome()"
   ]
  },
  {
   "cell_type": "code",
   "execution_count": null,
   "id": "5dc208e5-e385-4be6-be22-683b351a15dd",
   "metadata": {},
   "outputs": [],
   "source": []
  },
  {
   "cell_type": "code",
   "execution_count": null,
   "id": "36514796-07b4-473e-8402-cb82b9fa9dab",
   "metadata": {},
   "outputs": [],
   "source": []
  },
  {
   "cell_type": "code",
   "execution_count": null,
   "id": "9090e142-c868-45ce-8305-894c4db67d94",
   "metadata": {},
   "outputs": [],
   "source": []
  },
  {
   "cell_type": "code",
   "execution_count": null,
   "id": "552e6ab9-8a00-4e4a-a351-904c401b7e20",
   "metadata": {},
   "outputs": [],
   "source": []
  },
  {
   "cell_type": "code",
   "execution_count": null,
   "id": "54eb220c-69b4-4129-bf5c-9f4ee45baa8b",
   "metadata": {},
   "outputs": [],
   "source": []
  },
  {
   "cell_type": "code",
   "execution_count": null,
   "id": "e4dbbbab-bc71-4047-92d9-0fa74064adc9",
   "metadata": {},
   "outputs": [],
   "source": []
  }
 ],
 "metadata": {
  "kernelspec": {
   "display_name": "Python 3 (ipykernel)",
   "language": "python",
   "name": "python3"
  },
  "language_info": {
   "codemirror_mode": {
    "name": "ipython",
    "version": 3
   },
   "file_extension": ".py",
   "mimetype": "text/x-python",
   "name": "python",
   "nbconvert_exporter": "python",
   "pygments_lexer": "ipython3",
   "version": "3.11.7"
  }
 },
 "nbformat": 4,
 "nbformat_minor": 5
}
