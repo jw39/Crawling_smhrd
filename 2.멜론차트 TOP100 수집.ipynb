{
 "cells": [
  {
   "cell_type": "code",
   "execution_count": 70,
   "id": "499b0cbb-f43a-4e71-bf2a-9b75699fbeb5",
   "metadata": {},
   "outputs": [],
   "source": [
    "import requests as req\n",
    "from bs4 import BeautifulSoup as bs"
   ]
  },
  {
   "cell_type": "code",
   "execution_count": 71,
   "id": "3801a713-ffca-44ea-86d0-1e54a8e3a396",
   "metadata": {},
   "outputs": [
    {
     "data": {
      "text/plain": [
       "<Response [406]>"
      ]
     },
     "execution_count": 71,
     "metadata": {},
     "output_type": "execute_result"
    }
   ],
   "source": [
    "# 1. req를 통해서 멜론차트 사이트 요청\n",
    "req.get(\"https://www.melon.com/chart/\")"
   ]
  },
  {
   "cell_type": "code",
   "execution_count": 72,
   "id": "8016a1b0-5a6d-4edb-8457-dbddb26a744e",
   "metadata": {},
   "outputs": [],
   "source": [
    "# 2. 요청을 보내긴 하는데, 브라우저인 척 속여서 접근\n",
    "# 406이 나오면 반드시 이 방법을 사용해 볼 것\n",
    "head = {'User-Agent':'Mozilla/5.0 (Windows NT 10.0; Win64; x64) AppleWebKit/537.36 (KHTML, like Gecko) Chrome/124.0.0.0 Safari/537.36'}"
   ]
  },
  {
   "cell_type": "code",
   "execution_count": 73,
   "id": "6caf4256-67ee-49bd-a86d-e2491cc068cc",
   "metadata": {},
   "outputs": [],
   "source": [
    "# 2-2. F12 -> network -> chart -> header -> User-Agent:\n",
    "res = req.get(\"https://www.melon.com/chart/\", headers = head)"
   ]
  },
  {
   "cell_type": "code",
   "execution_count": 74,
   "id": "eac8c644-bed6-4f2a-baf5-1203ee6381f3",
   "metadata": {},
   "outputs": [],
   "source": [
    "# 2. bs 데이터로 파싱\n",
    "soup = bs(res.text, 'lxml')"
   ]
  },
  {
   "cell_type": "code",
   "execution_count": 75,
   "id": "6db36aac-9af2-4e15-b708-5a74bc67e9c8",
   "metadata": {},
   "outputs": [],
   "source": [
    "# 3. 노래 제목 수집\n",
    "# 선택자를 분석할 때 원하는 요소(태그)에 ID, CLASS가 존재하지 않는 경우에는\n",
    "# 반드시 부모태그를 활용해라! -> 부모 태그도 ID, CLASS 구분자가 있을 때까지 찾아가야 한다.\n",
    "# 클래스가 중간에 공백이 들어간 경우 -> 클래스가 복수개 라는 의미!! => 공백을 지우고 '.' 으로 이어라\n",
    "title = soup.select(\"div.ellipsis.rank01 > span > a\")"
   ]
  },
  {
   "cell_type": "code",
   "execution_count": 76,
   "id": "ef03ee66-76b5-4b19-b873-ba73501b6745",
   "metadata": {},
   "outputs": [],
   "source": [
    "# 4. 가수 이름 수집\n",
    "# div.ellipsis.rank02 > a -> 가수가 둘인 경우 갯수가 안 맞음!\n",
    "# div.ellipsis.rank02 -> 얘만 가져오니 갯수는 맞는데 숨어있는 span 때문에 중복되어서 나옴\n",
    "# 가수가 두 명일 수도 있어서 a 태그 말고 div 박스 자체를 가져옴\n",
    "# 근데 이러니까 span에 숨어있는 데이터가 있어서 중복으로 출력됨. 그래서 걍 span을 긁어옴\n",
    "singer = soup.select('div.ellipsis.rank02 > span.checkEllipsis')"
   ]
  },
  {
   "cell_type": "code",
   "execution_count": 77,
   "id": "12c619fc-4773-4a6d-8291-7ca2954cfc91",
   "metadata": {},
   "outputs": [
    {
     "data": {
      "text/plain": [
       "100"
      ]
     },
     "execution_count": 77,
     "metadata": {},
     "output_type": "execute_result"
    }
   ],
   "source": [
    "# 4-2 len으로 갯수 확인 필수!!!\n",
    "len(singer)"
   ]
  },
  {
   "cell_type": "code",
   "execution_count": 78,
   "id": "506f35d0-daef-48fa-be8f-5c1f39c13733",
   "metadata": {},
   "outputs": [
    {
     "data": {
      "text/plain": [
       "100"
      ]
     },
     "execution_count": 78,
     "metadata": {},
     "output_type": "execute_result"
    }
   ],
   "source": [
    "# 4-2 len으로 갯수 확인 필수!!!\n",
    "len(title)"
   ]
  },
  {
   "cell_type": "code",
   "execution_count": 79,
   "id": "011e40b7-35d9-4641-aa0e-5b82da3c97dc",
   "metadata": {
    "scrolled": true
   },
   "outputs": [
    {
     "name": "stdout",
     "output_type": "stream",
     "text": [
      "SPOT! (feat. JENNIE)\n",
      "Magnetic\n",
      "해야 (HEYA)\n",
      "나는 아픈 건 딱 질색이니까\n",
      "고민중독\n",
      "미안해 미워해 사랑해\n",
      "첫 만남은 계획대로 되지 않아\n",
      "천상연\n",
      "SHEESH\n",
      "밤양갱\n",
      "Love wins all\n",
      "예뻤어\n",
      "사랑은 늘 도망가\n",
      "MAESTRO\n",
      "한 페이지가 될 수 있게\n",
      "비의 랩소디\n",
      "우리들의 블루스\n",
      "온기\n",
      "모래 알갱이\n",
      "Do or Die\n",
      "다시 만날 수 있을까\n",
      "EASY\n",
      "To. X\n",
      "Home\n",
      "이제 나만 믿어요\n",
      "Hype Boy\n",
      "Smart\n",
      "그대만 있다면 (여름날 우리 X 너드커넥션 (Nerd Connection))\n",
      "London Boy\n",
      "무지개\n",
      "Polaroid\n",
      "소나기\n",
      "에피소드\n",
      "인생찬가\n",
      "I AM\n",
      "헤어지자 말해요\n",
      "연애편지\n",
      "ETA\n",
      "파이팅 해야지 (Feat. 이영지)\n",
      "Love 119\n",
      "Seven (feat. Latto) - Clean Ver.\n",
      "Perfect Night\n",
      "Drama\n",
      "Welcome to the Show\n",
      "Ditto\n",
      "Super Shy\n",
      "손오공\n",
      "인사\n",
      "WAY 4 LUV\n",
      "사랑인가 봐\n",
      "청춘찬가\n",
      "홀씨\n",
      "너의 모든 순간\n",
      "MANIAC\n",
      "Love Lee\n",
      "꿈\n",
      "사막에서 꽃을 피우듯\n",
      "Impossible\n",
      "퀸카 (Queencard)\n",
      "Get A Guitar\n",
      "OMG\n",
      "주저하는 연인들을 위해\n",
      "우리 영화\n",
      "사건의 지평선\n",
      "어떻게 이별까지 사랑하겠어, 널 사랑하는 거지\n",
      "Baddie\n",
      "Attention\n",
      "LOVE DIVE\n",
      "Siren\n",
      "봄날\n",
      "Midas Touch\n",
      "모든 날, 모든 순간 (Every day, Every Moment)\n",
      "보금자리\n",
      "Super Lady\n",
      "You & Me\n",
      "From\n",
      "Spicy\n",
      "취중고백\n",
      "Watch Me Woo!\n",
      "음악의 신\n",
      "그대가 내 안에 박혔다(그내박)\n",
      "Lucky Girl Syndrome\n",
      "Dynamite\n",
      "잘 지내자, 우리 (여름날 우리 X 로이킴)\n",
      "I Don't Think That I Like Her\n",
      "혹시 세상에 혼자 남겨진 것 같다면\n",
      "멈춰줘\n",
      "심(心)\n",
      "사랑하지 않아서 그랬어\n",
      "다정히 내 이름을 부르면\n",
      "버추얼 아이돌\n",
      "좋아해요\n",
      "Kitsch\n",
      "LALALI\n",
      "반딧불 (Little Light)\n",
      "후라이의 꿈\n",
      "슬픈 초대장\n",
      "By Your Side\n",
      "Spell\n",
      "Shopper\n"
     ]
    }
   ],
   "source": [
    "# 4-3 for문 이용해 데이터 확인\n",
    "# title[0].text을 for문 돌린 거임!!!!!! why? 리스트 형식이라 ~~~\n",
    "for i in title :\n",
    "    print(i.text)"
   ]
  },
  {
   "cell_type": "code",
   "execution_count": 80,
   "id": "2e64bced-9be6-4d82-8479-610e2ea48c5a",
   "metadata": {
    "scrolled": true
   },
   "outputs": [
    {
     "name": "stdout",
     "output_type": "stream",
     "text": [
      "지코 (ZICO)\n",
      "아일릿(ILLIT)\n",
      "IVE (아이브)\n",
      "(여자)아이들\n",
      "QWER\n",
      "Crush\n",
      "TWS (투어스)\n",
      "이창섭\n",
      "BABYMONSTER\n",
      "비비 (BIBI)\n",
      "아이유\n",
      "DAY6 (데이식스)\n",
      "임영웅\n",
      "세븐틴 (SEVENTEEN)\n",
      "DAY6 (데이식스)\n",
      "임재현\n",
      "임영웅\n",
      "임영웅\n",
      "임영웅\n",
      "임영웅\n",
      "임영웅\n",
      "LE SSERAFIM (르세라핌)\n",
      "태연 (TAEYEON)\n",
      "임영웅\n",
      "임영웅\n",
      "NewJeans\n",
      "LE SSERAFIM (르세라핌)\n",
      "너드커넥션 (Nerd Connection)\n",
      "임영웅\n",
      "임영웅\n",
      "임영웅\n",
      "이클립스 (ECLIPSE)\n",
      "이무진\n",
      "임영웅\n",
      "IVE (아이브)\n",
      "박재정\n",
      "임영웅\n",
      "NewJeans\n",
      "부석순 (SEVENTEEN)\n",
      "RIIZE\n",
      "정국\n",
      "LE SSERAFIM (르세라핌)\n",
      "aespa\n",
      "DAY6 (데이식스)\n",
      "NewJeans\n",
      "NewJeans\n",
      "세븐틴 (SEVENTEEN)\n",
      "범진\n",
      "PLAVE\n",
      "멜로망스\n",
      "세븐틴 (SEVENTEEN)\n",
      "아이유\n",
      "성시경\n",
      "VIVIZ (비비지)\n",
      "AKMU (악뮤)\n",
      "태연 (TAEYEON)\n",
      "우디 (Woody)\n",
      "RIIZE\n",
      "(여자)아이들\n",
      "RIIZE\n",
      "NewJeans\n",
      "잔나비\n",
      "PLAVE\n",
      "윤하 (YOUNHA)\n",
      "AKMU (악뮤)\n",
      "IVE (아이브)\n",
      "NewJeans\n",
      "IVE (아이브)\n",
      "RIIZE\n",
      "방탄소년단\n",
      "KISS OF LIFE\n",
      "폴킴\n",
      "임영웅\n",
      "(여자)아이들\n",
      "제니 (JENNIE)\n",
      "PLAVE\n",
      "aespa\n",
      "김민석\n",
      "PLAVE\n",
      "세븐틴 (SEVENTEEN)\n",
      "순순희(기태)\n",
      "아일릿(ILLIT)\n",
      "방탄소년단\n",
      "로이킴\n",
      "Charlie Puth\n",
      "우디 (Woody)\n",
      "헤이즈 (Heize)\n",
      "DK(디셈버)\n",
      "임한별\n",
      "경서예지, 전건호\n",
      "PLAVE\n",
      "폴킴\n",
      "IVE (아이브)\n",
      "세븐틴 (SEVENTEEN)\n",
      "도영 (DOYOUNG)\n",
      "AKMU (악뮤)\n",
      "순순희 (지환)\n",
      "Crush\n",
      "세븐틴 (SEVENTEEN)\n",
      "아이유\n"
     ]
    }
   ],
   "source": [
    "for i in singer :\n",
    "    print(i.text)"
   ]
  },
  {
   "cell_type": "markdown",
   "id": "8b8cf212-6a4e-45da-8ea1-64d26faec7cc",
   "metadata": {},
   "source": [
    "# 데이터 수집할 때 주의점!\n",
    "1) req로 요청을 보냈을 때 406이 나오는 경우 -> header 데이터를 추가 (브라우저인 척)\n",
    "2) 선택자를 분석할 때는 명확하나 구분자(id, class)가 있을 때까지 분석\n",
    "3) 데이터의 개수가 정해진 경우에는 반드시 중간에 검증 작업을 할 것 (데이터 개수, 데이터 중복여부)"
   ]
  },
  {
   "cell_type": "code",
   "execution_count": 81,
   "id": "718c4267-51db-45fc-bb8a-98a08b2ce625",
   "metadata": {
    "scrolled": true
   },
   "outputs": [],
   "source": [
    "# 순수한 텍스트 정보만 담아주는 로직\n",
    "# titleList = []\n",
    "# singerList = []\n",
    "# 반복문을 통해서 텍스트 데이터만 저장하는 로직\n",
    "# 단순 구조, 하드 코딩\n",
    "# for i in title :\n",
    "#     titleList.append(i.text)\n",
    "# for i in singer :\n",
    "#     singerList.append(i.text)\n"
   ]
  },
  {
   "cell_type": "code",
   "execution_count": 82,
   "id": "5eb58363-7130-4586-b646-1ebd44dce09d",
   "metadata": {
    "scrolled": true
   },
   "outputs": [],
   "source": [
    "# 순수한 텍스트 정보만 담아주는 로직\n",
    "titleList = []\n",
    "singerList = []\n",
    "rankList = []\n",
    "\n",
    "# 좋은 코드 \n",
    "for i in range(len(title)) :\n",
    "    titleList.append(title[i].text)\n",
    "    singerList.append(singer[i].text)\n",
    "    rankList.append(i+1)"
   ]
  },
  {
   "cell_type": "code",
   "execution_count": 83,
   "id": "fe1d6704-8b96-4ad9-a4df-d6ee905c6846",
   "metadata": {},
   "outputs": [],
   "source": [
    "# 데이터 활용\n",
    "# 1. 데이터 프레임으로 시각화\n",
    "import pandas as pd"
   ]
  },
  {
   "cell_type": "code",
   "execution_count": 91,
   "id": "df6c2467-6748-493d-ab8d-1c7401d1f9e5",
   "metadata": {},
   "outputs": [],
   "source": [
    "# 2. 딕셔너리에 리스트 탐기\n",
    "# 딕셔너리 형태로 데이터를 담았음\n",
    "# 다른 의미의 키가 필요한 데이터를 담기 위해 딕셔너리에 담았다\n",
    "dic = {\"순위\":rankList, \"가수\":singerList, \"노래제목\":titleList}"
   ]
  },
  {
   "cell_type": "code",
   "execution_count": 89,
   "id": "9772dd44-e29b-434d-b239-d1455ac0e014",
   "metadata": {},
   "outputs": [
    {
     "data": {
      "text/html": [
       "<div>\n",
       "<style scoped>\n",
       "    .dataframe tbody tr th:only-of-type {\n",
       "        vertical-align: middle;\n",
       "    }\n",
       "\n",
       "    .dataframe tbody tr th {\n",
       "        vertical-align: top;\n",
       "    }\n",
       "\n",
       "    .dataframe thead th {\n",
       "        text-align: right;\n",
       "    }\n",
       "</style>\n",
       "<table border=\"1\" class=\"dataframe\">\n",
       "  <thead>\n",
       "    <tr style=\"text-align: right;\">\n",
       "      <th></th>\n",
       "      <th>순위</th>\n",
       "      <th>가수</th>\n",
       "      <th>노래제목</th>\n",
       "    </tr>\n",
       "  </thead>\n",
       "  <tbody>\n",
       "    <tr>\n",
       "      <th>0</th>\n",
       "      <td>1</td>\n",
       "      <td>지코 (ZICO)</td>\n",
       "      <td>SPOT! (feat. JENNIE)</td>\n",
       "    </tr>\n",
       "    <tr>\n",
       "      <th>1</th>\n",
       "      <td>2</td>\n",
       "      <td>아일릿(ILLIT)</td>\n",
       "      <td>Magnetic</td>\n",
       "    </tr>\n",
       "    <tr>\n",
       "      <th>2</th>\n",
       "      <td>3</td>\n",
       "      <td>IVE (아이브)</td>\n",
       "      <td>해야 (HEYA)</td>\n",
       "    </tr>\n",
       "    <tr>\n",
       "      <th>3</th>\n",
       "      <td>4</td>\n",
       "      <td>(여자)아이들</td>\n",
       "      <td>나는 아픈 건 딱 질색이니까</td>\n",
       "    </tr>\n",
       "    <tr>\n",
       "      <th>4</th>\n",
       "      <td>5</td>\n",
       "      <td>QWER</td>\n",
       "      <td>고민중독</td>\n",
       "    </tr>\n",
       "    <tr>\n",
       "      <th>...</th>\n",
       "      <td>...</td>\n",
       "      <td>...</td>\n",
       "      <td>...</td>\n",
       "    </tr>\n",
       "    <tr>\n",
       "      <th>95</th>\n",
       "      <td>96</td>\n",
       "      <td>AKMU (악뮤)</td>\n",
       "      <td>후라이의 꿈</td>\n",
       "    </tr>\n",
       "    <tr>\n",
       "      <th>96</th>\n",
       "      <td>97</td>\n",
       "      <td>순순희 (지환)</td>\n",
       "      <td>슬픈 초대장</td>\n",
       "    </tr>\n",
       "    <tr>\n",
       "      <th>97</th>\n",
       "      <td>98</td>\n",
       "      <td>Crush</td>\n",
       "      <td>By Your Side</td>\n",
       "    </tr>\n",
       "    <tr>\n",
       "      <th>98</th>\n",
       "      <td>99</td>\n",
       "      <td>세븐틴 (SEVENTEEN)</td>\n",
       "      <td>Spell</td>\n",
       "    </tr>\n",
       "    <tr>\n",
       "      <th>99</th>\n",
       "      <td>100</td>\n",
       "      <td>아이유</td>\n",
       "      <td>Shopper</td>\n",
       "    </tr>\n",
       "  </tbody>\n",
       "</table>\n",
       "<p>100 rows × 3 columns</p>\n",
       "</div>"
      ],
      "text/plain": [
       "     순위               가수                  노래제목\n",
       "0     1        지코 (ZICO)  SPOT! (feat. JENNIE)\n",
       "1     2       아일릿(ILLIT)              Magnetic\n",
       "2     3        IVE (아이브)             해야 (HEYA)\n",
       "3     4          (여자)아이들       나는 아픈 건 딱 질색이니까\n",
       "4     5             QWER                  고민중독\n",
       "..  ...              ...                   ...\n",
       "95   96        AKMU (악뮤)                후라이의 꿈\n",
       "96   97         순순희 (지환)                슬픈 초대장\n",
       "97   98            Crush          By Your Side\n",
       "98   99  세븐틴 (SEVENTEEN)                 Spell\n",
       "99  100              아이유               Shopper\n",
       "\n",
       "[100 rows x 3 columns]"
      ]
     },
     "execution_count": 89,
     "metadata": {},
     "output_type": "execute_result"
    }
   ],
   "source": [
    "# 3. 데이터프레임에 딕셔너리 담기 \n",
    "# 데이터 프레임에는 행과 열이 필요, 그래서 딕셔너리 형태로 만든 거임!! 딕셔너리를 데이터 프레임에 담았다!\n",
    "melon = pd.DataFrame(dic)\n",
    "melon"
   ]
  },
  {
   "cell_type": "code",
   "execution_count": 86,
   "id": "10018ee0-1e4b-416f-97c5-ebd59b751752",
   "metadata": {},
   "outputs": [],
   "source": [
    "# 4. 데이터 프레임을 csv 확장자 파일로 저장\n",
    "# 한글을 저장할 때는 반드시 인코딩 작업이 필수!\n",
    "# utf-8, euc-kr, utf-8-sig\n",
    "# 멜론이라는 데이터 프레임을 csv 파일로 만들어줘 -> melon.to_csv(\"파일 이름.확장자\", 인코딩 형식)\n",
    "melon.to_csv(\"멜론차트.csv\", encoding=\"euc-kr\")"
   ]
  },
  {
   "cell_type": "code",
   "execution_count": 92,
   "id": "54fd5422-ded3-48da-a77c-21c1392ebdac",
   "metadata": {},
   "outputs": [
    {
     "data": {
      "text/html": [
       "<div>\n",
       "<style scoped>\n",
       "    .dataframe tbody tr th:only-of-type {\n",
       "        vertical-align: middle;\n",
       "    }\n",
       "\n",
       "    .dataframe tbody tr th {\n",
       "        vertical-align: top;\n",
       "    }\n",
       "\n",
       "    .dataframe thead th {\n",
       "        text-align: right;\n",
       "    }\n",
       "</style>\n",
       "<table border=\"1\" class=\"dataframe\">\n",
       "  <thead>\n",
       "    <tr style=\"text-align: right;\">\n",
       "      <th></th>\n",
       "      <th>가수</th>\n",
       "      <th>노래제목</th>\n",
       "    </tr>\n",
       "    <tr>\n",
       "      <th>순위</th>\n",
       "      <th></th>\n",
       "      <th></th>\n",
       "    </tr>\n",
       "  </thead>\n",
       "  <tbody>\n",
       "    <tr>\n",
       "      <th>1</th>\n",
       "      <td>지코 (ZICO)</td>\n",
       "      <td>SPOT! (feat. JENNIE)</td>\n",
       "    </tr>\n",
       "    <tr>\n",
       "      <th>2</th>\n",
       "      <td>아일릿(ILLIT)</td>\n",
       "      <td>Magnetic</td>\n",
       "    </tr>\n",
       "    <tr>\n",
       "      <th>3</th>\n",
       "      <td>IVE (아이브)</td>\n",
       "      <td>해야 (HEYA)</td>\n",
       "    </tr>\n",
       "    <tr>\n",
       "      <th>4</th>\n",
       "      <td>(여자)아이들</td>\n",
       "      <td>나는 아픈 건 딱 질색이니까</td>\n",
       "    </tr>\n",
       "    <tr>\n",
       "      <th>5</th>\n",
       "      <td>QWER</td>\n",
       "      <td>고민중독</td>\n",
       "    </tr>\n",
       "    <tr>\n",
       "      <th>...</th>\n",
       "      <td>...</td>\n",
       "      <td>...</td>\n",
       "    </tr>\n",
       "    <tr>\n",
       "      <th>96</th>\n",
       "      <td>AKMU (악뮤)</td>\n",
       "      <td>후라이의 꿈</td>\n",
       "    </tr>\n",
       "    <tr>\n",
       "      <th>97</th>\n",
       "      <td>순순희 (지환)</td>\n",
       "      <td>슬픈 초대장</td>\n",
       "    </tr>\n",
       "    <tr>\n",
       "      <th>98</th>\n",
       "      <td>Crush</td>\n",
       "      <td>By Your Side</td>\n",
       "    </tr>\n",
       "    <tr>\n",
       "      <th>99</th>\n",
       "      <td>세븐틴 (SEVENTEEN)</td>\n",
       "      <td>Spell</td>\n",
       "    </tr>\n",
       "    <tr>\n",
       "      <th>100</th>\n",
       "      <td>아이유</td>\n",
       "      <td>Shopper</td>\n",
       "    </tr>\n",
       "  </tbody>\n",
       "</table>\n",
       "<p>100 rows × 2 columns</p>\n",
       "</div>"
      ],
      "text/plain": [
       "                  가수                  노래제목\n",
       "순위                                        \n",
       "1          지코 (ZICO)  SPOT! (feat. JENNIE)\n",
       "2         아일릿(ILLIT)              Magnetic\n",
       "3          IVE (아이브)             해야 (HEYA)\n",
       "4            (여자)아이들       나는 아픈 건 딱 질색이니까\n",
       "5               QWER                  고민중독\n",
       "..               ...                   ...\n",
       "96         AKMU (악뮤)                후라이의 꿈\n",
       "97          순순희 (지환)                슬픈 초대장\n",
       "98             Crush          By Your Side\n",
       "99   세븐틴 (SEVENTEEN)                 Spell\n",
       "100              아이유               Shopper\n",
       "\n",
       "[100 rows x 2 columns]"
      ]
     },
     "execution_count": 92,
     "metadata": {},
     "output_type": "execute_result"
    }
   ],
   "source": [
    "# 5. 인덱스 대신에 순위 컬럼 제작해서 인덱스 자리를 대체\n",
    "melon.set_index(\"순위\", inplace = True)\n",
    "melon"
   ]
  },
  {
   "cell_type": "markdown",
   "id": "ecc4a023-0856-4aad-bfd5-1a115bbcc7bf",
   "metadata": {},
   "source": [
    "# 데이터 베이스에 csv 파일을 저장할 때 주의점!\n",
    "1) 반드시 컬럼의 이름과 개수가 같아야 한다.\n",
    "2) 컬럼의 데이터 타입도 같아야 한다.\n",
    "3) 데이터 길이 문제 ex) varchar(20) 를 벗어난 경우"
   ]
  },
  {
   "cell_type": "code",
   "execution_count": null,
   "id": "614c728e-9a47-4445-973d-6f97399181b4",
   "metadata": {},
   "outputs": [],
   "source": []
  },
  {
   "cell_type": "code",
   "execution_count": null,
   "id": "52ef7646-cc71-4e7c-a52f-5eb15ddd57b4",
   "metadata": {},
   "outputs": [],
   "source": []
  },
  {
   "cell_type": "code",
   "execution_count": null,
   "id": "972d4759-e268-4deb-afd8-f2938018fac7",
   "metadata": {},
   "outputs": [],
   "source": []
  }
 ],
 "metadata": {
  "kernelspec": {
   "display_name": "Python 3 (ipykernel)",
   "language": "python",
   "name": "python3"
  },
  "language_info": {
   "codemirror_mode": {
    "name": "ipython",
    "version": 3
   },
   "file_extension": ".py",
   "mimetype": "text/x-python",
   "name": "python",
   "nbconvert_exporter": "python",
   "pygments_lexer": "ipython3",
   "version": "3.11.7"
  }
 },
 "nbformat": 4,
 "nbformat_minor": 5
}
